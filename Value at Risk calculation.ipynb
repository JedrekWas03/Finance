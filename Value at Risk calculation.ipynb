{
 "cells": [
  {
   "cell_type": "markdown",
   "metadata": {},
   "source": [
    "# Value at Risk calculation - whole portfolio"
   ]
  },
  {
   "cell_type": "markdown",
   "metadata": {},
   "source": [
    "*Assuming equal portfolio weights (changable as the need arises)*"
   ]
  },
  {
   "cell_type": "code",
   "execution_count": 93,
   "metadata": {},
   "outputs": [],
   "source": [
    "import numpy as np\n",
    "import pandas as pd\n",
    "import yfinance as yf\n",
    "import matplotlib"
   ]
  },
  {
   "cell_type": "code",
   "execution_count": 111,
   "metadata": {},
   "outputs": [],
   "source": [
    "# Params:\n",
    "confidence_interval = 0.95\n",
    "portfolio_value = 100000  # €\n",
    "startDate = \"2015-01-01\"\n",
    "endDate = \"2025-01-01\"\n",
    "tickers = ['SPOT', 'NVDA', 'GOOGL', 'PLD', 'AMT']\n",
    "years = 3\n",
    "days = 252 * years "
   ]
  },
  {
   "cell_type": "code",
   "execution_count": 112,
   "metadata": {},
   "outputs": [
    {
     "name": "stderr",
     "output_type": "stream",
     "text": [
      "[*********************100%%**********************]  1 of 1 completed\n",
      "[*********************100%%**********************]  1 of 1 completed\n",
      "[*********************100%%**********************]  1 of 1 completed\n"
     ]
    },
    {
     "name": "stderr",
     "output_type": "stream",
     "text": [
      "[*********************100%%**********************]  1 of 1 completed\n",
      "[*********************100%%**********************]  1 of 1 completed\n"
     ]
    }
   ],
   "source": [
    "adj_close_df = pd.DataFrame()\n",
    "for ticker in tickers:\n",
    "    data = yf.download(ticker, start=startDate, end=endDate)\n",
    "    adj_close_df[ticker] = data['Adj Close']"
   ]
  },
  {
   "cell_type": "code",
   "execution_count": 113,
   "metadata": {},
   "outputs": [],
   "source": [
    "# Log returns\n",
    "log_returns = np.log(adj_close_df / adj_close_df.shift(1))\n",
    "log_returns = log_returns.dropna()"
   ]
  },
  {
   "cell_type": "code",
   "execution_count": 114,
   "metadata": {},
   "outputs": [
    {
     "data": {
      "text/html": [
       "<div>\n",
       "<style scoped>\n",
       "    .dataframe tbody tr th:only-of-type {\n",
       "        vertical-align: middle;\n",
       "    }\n",
       "\n",
       "    .dataframe tbody tr th {\n",
       "        vertical-align: top;\n",
       "    }\n",
       "\n",
       "    .dataframe thead th {\n",
       "        text-align: right;\n",
       "    }\n",
       "</style>\n",
       "<table border=\"1\" class=\"dataframe\">\n",
       "  <thead>\n",
       "    <tr style=\"text-align: right;\">\n",
       "      <th></th>\n",
       "      <th>SPOT</th>\n",
       "      <th>NVDA</th>\n",
       "      <th>GOOGL</th>\n",
       "      <th>PLD</th>\n",
       "      <th>AMT</th>\n",
       "    </tr>\n",
       "    <tr>\n",
       "      <th>Date</th>\n",
       "      <th></th>\n",
       "      <th></th>\n",
       "      <th></th>\n",
       "      <th></th>\n",
       "      <th></th>\n",
       "    </tr>\n",
       "  </thead>\n",
       "  <tbody>\n",
       "    <tr>\n",
       "      <th>2018-04-04</th>\n",
       "      <td>-0.032673</td>\n",
       "      <td>0.003942</td>\n",
       "      <td>0.010770</td>\n",
       "      <td>0.006781</td>\n",
       "      <td>0.011460</td>\n",
       "    </tr>\n",
       "    <tr>\n",
       "      <th>2018-04-05</th>\n",
       "      <td>-0.001596</td>\n",
       "      <td>-0.021716</td>\n",
       "      <td>0.002841</td>\n",
       "      <td>-0.006295</td>\n",
       "      <td>0.007175</td>\n",
       "    </tr>\n",
       "    <tr>\n",
       "      <th>2018-04-06</th>\n",
       "      <td>0.026928</td>\n",
       "      <td>-0.032738</td>\n",
       "      <td>-0.022218</td>\n",
       "      <td>-0.008455</td>\n",
       "      <td>-0.013416</td>\n",
       "    </tr>\n",
       "    <tr>\n",
       "      <th>2018-04-09</th>\n",
       "      <td>0.013964</td>\n",
       "      <td>0.005400</td>\n",
       "      <td>0.009990</td>\n",
       "      <td>0.001305</td>\n",
       "      <td>0.007219</td>\n",
       "    </tr>\n",
       "    <tr>\n",
       "      <th>2018-04-10</th>\n",
       "      <td>0.032144</td>\n",
       "      <td>0.056408</td>\n",
       "      <td>0.015959</td>\n",
       "      <td>0.004556</td>\n",
       "      <td>-0.036024</td>\n",
       "    </tr>\n",
       "  </tbody>\n",
       "</table>\n",
       "</div>"
      ],
      "text/plain": [
       "                SPOT      NVDA     GOOGL       PLD       AMT\n",
       "Date                                                        \n",
       "2018-04-04 -0.032673  0.003942  0.010770  0.006781  0.011460\n",
       "2018-04-05 -0.001596 -0.021716  0.002841 -0.006295  0.007175\n",
       "2018-04-06  0.026928 -0.032738 -0.022218 -0.008455 -0.013416\n",
       "2018-04-09  0.013964  0.005400  0.009990  0.001305  0.007219\n",
       "2018-04-10  0.032144  0.056408  0.015959  0.004556 -0.036024"
      ]
     },
     "execution_count": 114,
     "metadata": {},
     "output_type": "execute_result"
    }
   ],
   "source": [
    "log_returns.head()"
   ]
  },
  {
   "cell_type": "code",
   "execution_count": 115,
   "metadata": {},
   "outputs": [
    {
     "name": "stdout",
     "output_type": "stream",
     "text": [
      "Portfolio weights: [0.2 0.2 0.2 0.2 0.2]\n"
     ]
    }
   ],
   "source": [
    "# Equal weights:\n",
    "weight = np.array([1 / len(tickers)] * len(tickers))\n",
    "print(\"Portfolio weights:\", weight)"
   ]
  },
  {
   "cell_type": "code",
   "execution_count": 116,
   "metadata": {},
   "outputs": [
    {
     "data": {
      "text/plain": [
       "Date\n",
       "2018-04-04    0.000056\n",
       "2018-04-05   -0.003918\n",
       "2018-04-06   -0.009980\n",
       "2018-04-09    0.007576\n",
       "2018-04-10    0.014609\n",
       "                ...   \n",
       "2024-12-24    0.006063\n",
       "2024-12-26    0.000821\n",
       "2024-12-27   -0.011448\n",
       "2024-12-30   -0.003161\n",
       "2024-12-31   -0.005941\n",
       "Length: 1698, dtype: float64"
      ]
     },
     "execution_count": 116,
     "metadata": {},
     "output_type": "execute_result"
    }
   ],
   "source": [
    "# Historical returns\n",
    "historical_returns = (log_returns * weight).sum(axis=1)\n",
    "\n",
    "\n",
    "# Rolling returns\n",
    "range_returns = historical_returns.rolling(window=days).sum()\n",
    "range_returns = range_returns.dropna()\n",
    "\n",
    "historical_returns"
   ]
  },
  {
   "cell_type": "code",
   "execution_count": 117,
   "metadata": {},
   "outputs": [
    {
     "name": "stdout",
     "output_type": "stream",
     "text": [
      "Value at Risk (VaR): 22103.83€\n"
     ]
    }
   ],
   "source": [
    "# Calculate Value at Risk (VaR)\n",
    "VaR = np.percentile(range_returns, 100 - (confidence_interval * 100)) * portfolio_value\n",
    "print(f\"Value at Risk (VaR): {round(VaR,2)}€\")"
   ]
  },
  {
   "cell_type": "markdown",
   "metadata": {},
   "source": [
    "This means that in the 95% level of confidence, the worst thing that can happen is that we lose this amount of money.\n",
    "\n",
    "The worst thing that can happen (taking into consideration the 95% confidence interval) is that we lose this amount of money. \n",
    "\n",
    "Only in 5% of scenerios, we'll lose more"
   ]
  },
  {
   "cell_type": "code",
   "execution_count": 120,
   "metadata": {},
   "outputs": [
    {
     "data": {
      "image/png": "[encoded data removed]",
      "text/plain": [
       "<Figure size 640x480 with 1 Axes>"
      ]
     },
     "metadata": {},
     "output_type": "display_data"
    }
   ],
   "source": [
    "range_returns_value = range_returns * portfolio_value\n",
    "\n",
    "plt.hist(range_returns_value, bins=15, density=True, alpha=0.75, color='blue')\n",
    "plt.xlabel(f'{days}-Day Portfolio Return (€)')\n",
    "plt.ylabel('Frequency')\n",
    "plt.title(f'Distribution of Portfolio {days}-Day Returns (€)')\n",
    "plt.axvline(VaR, color='r', linestyle='dashed', linewidth=2, label=f'VaR at {confidence_interval:.0%} confidence level')\n",
    "plt.legend()\n",
    "plt.grid(True)\n",
    "plt.show()"
   ]
  },
  {
   "cell_type": "markdown",
   "metadata": {},
   "source": [
    "## VaR for only one asset"
   ]
  },
  {
   "cell_type": "code",
   "execution_count": 102,
   "metadata": {},
   "outputs": [
    {
     "name": "stderr",
     "output_type": "stream",
     "text": [
      "[*********************100%%**********************]  1 of 1 completed\n"
     ]
    },
    {
     "name": "stdout",
     "output_type": "stream",
     "text": [
      "Historical VaR (95% confidence level): -0.58%\n"
     ]
    },
    {
     "data": {
      "image/png": "[encoded data removed]",
      "text/plain": [
       "<Figure size 1000x600 with 1 Axes>"
      ]
     },
     "metadata": {},
     "output_type": "display_data"
    }
   ],
   "source": [
    "import numpy as np\n",
    "import pandas as pd\n",
    "import yfinance as yf\n",
    "import matplotlib.pyplot as plt\n",
    "from datetime import datetime, timedelta\n",
    "\n",
    "# Fetch historical data for a stock\n",
    "stock = 'BND'\n",
    "data = yf.download(stock, start=\"2019-01-01\", end=\"2024-10-16\")\n",
    "returns = data['Adj Close'].pct_change().dropna()\n",
    "\n",
    "# Calculate the historical VaR at 95% confidence level\n",
    "confidence_level = 0.95\n",
    "VaR_historical = np.percentile(returns, (1 - confidence_level) * 100)\n",
    "\n",
    "print(f\"Historical VaR (95% confidence level): {VaR_historical:.2%}\")\n",
    "\n",
    "# Plot the historical returns and VaR threshold\n",
    "plt.figure(figsize=(10, 6))\n",
    "plt.hist(returns, bins=50, alpha=0.75, color='blue', edgecolor='black')\n",
    "plt.axvline(VaR_historical, color='red', linestyle='--', label=f'VaR (95%): {VaR_historical:.2%}')\n",
    "plt.title(f'Historical Returns of {stock}')\n",
    "plt.xlabel('Returns')\n",
    "plt.ylabel('Frequency')\n",
    "plt.legend()\n",
    "plt.show()"
   ]
  }
 ],
 "metadata": {
  "kernelspec": {
   "display_name": "Python 3",
   "language": "python",
   "name": "python3"
  },
  "language_info": {
   "codemirror_mode": {
    "name": "ipython",
    "version": 3
   },
   "file_extension": ".py",
   "mimetype": "text/x-python",
   "name": "python",
   "nbconvert_exporter": "python",
   "pygments_lexer": "ipython3",
   "version": "3.12.8"
  }
 },
 "nbformat": 4,
 "nbformat_minor": 2
}
